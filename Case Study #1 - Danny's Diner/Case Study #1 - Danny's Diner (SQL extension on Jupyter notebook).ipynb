{
 "cells": [
  {
   "cell_type": "markdown",
   "metadata": {},
   "source": [
    "## Introduction\n",
    "\n",
    "This is my solution using SQL extension on jupyter notebook for Case Study #1 of Danny Ma's 8 Weeks SQL Challenge. \n",
    "\n",
    "## Case Study Questions\n",
    "\n",
    "Each of the following case study questions can be answered using a single SQL statement:\n",
    "\n",
    "1. What is the total amount each customer spent at the restaurant?\n",
    "2. How many days has each customer visited the restaurant?\n",
    "3. What was the first item from the menu purchased by each customer?\n",
    "4. What is the most purchased item on the menu and how many times was it purchased by all customers?\n",
    "5. Which item was the most popular for each customer?\n",
    "6. Which item was purchased first by the customer after they became a member?\n",
    "7. Which item was purchased just before the customer became a member?\n",
    "8. What is the total items and amount spent for each member before they became a member?\n",
    "9. If each $1 spent equates to 10 points and sushi has a 2x points multiplier - how many points would each customer have?\n",
    "10. In the first week after a customer joins the program (including their join date) they earn 2x points on all items, not just sushi - how many points do customer A and B have at the end of January?"
   ]
  },
  {
   "cell_type": "markdown",
   "metadata": {},
   "source": [
    "## Getting Started\n",
    "\n",
    "First, install SQL extension on jupyter notebook and import relevant libraries.\n",
    "Then, load SQL extension"
   ]
  },
  {
   "cell_type": "code",
   "execution_count": 1,
   "metadata": {},
   "outputs": [],
   "source": [
    "# !pip install ipython-sql\n",
    "import sql\n",
    "from sqlalchemy import create_engine\n",
    "\n",
    "\n",
    "%load_ext sql\n",
    "%sql sqlite://\n"
   ]
  },
  {
   "cell_type": "markdown",
   "metadata": {},
   "source": [
    "Next, create the required tables provided- sales,members,menu"
   ]
  },
  {
   "cell_type": "code",
   "execution_count": 2,
   "metadata": {},
   "outputs": [
    {
     "name": "stdout",
     "output_type": "stream",
     "text": [
      " * sqlite://\n",
      "Done.\n",
      "15 rows affected.\n"
     ]
    },
    {
     "data": {
      "text/plain": [
       "[]"
      ]
     },
     "execution_count": 2,
     "metadata": {},
     "output_type": "execute_result"
    }
   ],
   "source": [
    "\n",
    "%%sql \n",
    "\n",
    "CREATE TABLE sales (\n",
    "  \"customer_id\" VARCHAR(1),\n",
    "  \"order_date\" DATE,\n",
    "  \"product_id\" INTEGER\n",
    ");\n",
    "\n",
    "INSERT INTO sales\n",
    "  (\"customer_id\", \"order_date\", \"product_id\")\n",
    "VALUES\n",
    "  ('A', '2021-01-01', '1'),\n",
    "  ('A', '2021-01-01', '2'),\n",
    "  ('A', '2021-01-07', '2'),\n",
    "  ('A', '2021-01-10', '3'),\n",
    "  ('A', '2021-01-11', '3'),\n",
    "  ('A', '2021-01-11', '3'),\n",
    "  ('B', '2021-01-01', '2'),\n",
    "  ('B', '2021-01-02', '2'),\n",
    "  ('B', '2021-01-04', '1'),\n",
    "  ('B', '2021-01-11', '1'),\n",
    "  ('B', '2021-01-16', '3'),\n",
    "  ('B', '2021-02-01', '3'),\n",
    "  ('C', '2021-01-01', '3'),\n",
    "  ('C', '2021-01-01', '3'),\n",
    "  ('C', '2021-01-07', '3');"
   ]
  },
  {
   "cell_type": "code",
   "execution_count": 3,
   "metadata": {},
   "outputs": [
    {
     "name": "stdout",
     "output_type": "stream",
     "text": [
      " * sqlite://\n",
      "Done.\n",
      "2 rows affected.\n"
     ]
    },
    {
     "data": {
      "text/plain": [
       "[]"
      ]
     },
     "execution_count": 3,
     "metadata": {},
     "output_type": "execute_result"
    }
   ],
   "source": [
    "%%sql\n",
    "\n",
    "CREATE TABLE members (\n",
    "  \"customer_id\" VARCHAR(1),\n",
    "  \"join_date\" DATE\n",
    ");\n",
    "\n",
    "INSERT INTO members\n",
    "  (\"customer_id\", \"join_date\")\n",
    "VALUES\n",
    "  ('A', '2021-01-07'),\n",
    "  ('B', '2021-01-09');"
   ]
  },
  {
   "cell_type": "code",
   "execution_count": 4,
   "metadata": {},
   "outputs": [
    {
     "name": "stdout",
     "output_type": "stream",
     "text": [
      " * sqlite://\n",
      "Done.\n",
      "3 rows affected.\n"
     ]
    },
    {
     "data": {
      "text/plain": [
       "[]"
      ]
     },
     "execution_count": 4,
     "metadata": {},
     "output_type": "execute_result"
    }
   ],
   "source": [
    "\n",
    "%%sql\n",
    "\n",
    "CREATE TABLE menu (\n",
    "  \"product_id\" INTEGER,\n",
    "  \"product_name\" VARCHAR(5),\n",
    "  \"price\" INTEGER\n",
    ");\n",
    "\n",
    "INSERT INTO menu\n",
    "  (\"product_id\", \"product_name\", \"price\")\n",
    "VALUES\n",
    "  ('1', 'sushi', '10'),\n",
    "  ('2', 'curry', '15'),\n",
    "  ('3', 'ramen', '12');"
   ]
  },
  {
   "cell_type": "markdown",
   "metadata": {},
   "source": [
    "## Solution\n",
    "\n"
   ]
  },
  {
   "cell_type": "markdown",
   "metadata": {},
   "source": [
    "#### Q1 : What is the total amount each customer spent at the restaurant? "
   ]
  },
  {
   "cell_type": "code",
   "execution_count": 5,
   "metadata": {},
   "outputs": [
    {
     "name": "stdout",
     "output_type": "stream",
     "text": [
      " * sqlite://\n",
      "Done.\n"
     ]
    },
    {
     "data": {
      "text/html": [
       "<table>\n",
       "    <tr>\n",
       "        <th>customer_id</th>\n",
       "        <th>total_sales</th>\n",
       "    </tr>\n",
       "    <tr>\n",
       "        <td>A</td>\n",
       "        <td>76</td>\n",
       "    </tr>\n",
       "    <tr>\n",
       "        <td>B</td>\n",
       "        <td>74</td>\n",
       "    </tr>\n",
       "    <tr>\n",
       "        <td>C</td>\n",
       "        <td>36</td>\n",
       "    </tr>\n",
       "</table>"
      ],
      "text/plain": [
       "[('A', 76), ('B', 74), ('C', 36)]"
      ]
     },
     "execution_count": 5,
     "metadata": {},
     "output_type": "execute_result"
    }
   ],
   "source": [
    "%%sql \n",
    "\n",
    "SELECT s.customer_id, SUM(price) AS total_sales\n",
    "FROM sales AS s\n",
    "JOIN menu AS m \n",
    "ON s.product_id = m.product_id\n",
    "GROUP BY customer_id"
   ]
  },
  {
   "cell_type": "markdown",
   "metadata": {},
   "source": [
    "Ans: Customer A spent $76 , \n",
    "Customer B spent $ 74 and <br>\n",
    "Customer C spent $ 36 at the restaurant."
   ]
  },
  {
   "cell_type": "markdown",
   "metadata": {},
   "source": [
    "#### Q2: How many days has each customer visited the restaurant?\n"
   ]
  },
  {
   "cell_type": "code",
   "execution_count": 6,
   "metadata": {},
   "outputs": [
    {
     "name": "stdout",
     "output_type": "stream",
     "text": [
      " * sqlite://\n",
      "Done.\n"
     ]
    },
    {
     "data": {
      "text/html": [
       "<table>\n",
       "    <tr>\n",
       "        <th>customer_id</th>\n",
       "        <th>days</th>\n",
       "    </tr>\n",
       "    <tr>\n",
       "        <td>A</td>\n",
       "        <td>4</td>\n",
       "    </tr>\n",
       "    <tr>\n",
       "        <td>B</td>\n",
       "        <td>6</td>\n",
       "    </tr>\n",
       "    <tr>\n",
       "        <td>C</td>\n",
       "        <td>2</td>\n",
       "    </tr>\n",
       "</table>"
      ],
      "text/plain": [
       "[('A', 4), ('B', 6), ('C', 2)]"
      ]
     },
     "execution_count": 6,
     "metadata": {},
     "output_type": "execute_result"
    }
   ],
   "source": [
    "%%sql \n",
    "\n",
    "SELECT s.customer_id, COUNT(DISTINCT(order_date)) AS days\n",
    "FROM sales AS s\n",
    "GROUP BY customer_id\n"
   ]
  },
  {
   "cell_type": "markdown",
   "metadata": {},
   "source": [
    "Ans: Customer A visited the restaurant on 4 days, Customer B on 6 days and Customer C on 2 days."
   ]
  },
  {
   "cell_type": "markdown",
   "metadata": {},
   "source": [
    "#### Q3: What was the first item from the menu purchased by each customer? "
   ]
  },
  {
   "cell_type": "code",
   "execution_count": 7,
   "metadata": {},
   "outputs": [
    {
     "name": "stdout",
     "output_type": "stream",
     "text": [
      " * sqlite://\n",
      "Done.\n"
     ]
    },
    {
     "data": {
      "text/html": [
       "<table>\n",
       "    <tr>\n",
       "        <th>customer_id</th>\n",
       "        <th>product_name</th>\n",
       "    </tr>\n",
       "    <tr>\n",
       "        <td>A</td>\n",
       "        <td>curry</td>\n",
       "    </tr>\n",
       "    <tr>\n",
       "        <td>A</td>\n",
       "        <td>sushi</td>\n",
       "    </tr>\n",
       "    <tr>\n",
       "        <td>B</td>\n",
       "        <td>curry</td>\n",
       "    </tr>\n",
       "    <tr>\n",
       "        <td>C</td>\n",
       "        <td>ramen</td>\n",
       "    </tr>\n",
       "</table>"
      ],
      "text/plain": [
       "[('A', 'curry'), ('A', 'sushi'), ('B', 'curry'), ('C', 'ramen')]"
      ]
     },
     "execution_count": 7,
     "metadata": {},
     "output_type": "execute_result"
    }
   ],
   "source": [
    "%%sql \n",
    "\n",
    "WITH ordered_sales AS\n",
    "(SELECT s.customer_id, s.order_date, product_name, \n",
    " DENSE_RANK() OVER (PARTITION BY s.customer_id \n",
    "                    ORDER BY s.order_date) AS rank\n",
    "FROM sales AS s\n",
    " JOIN menu AS m\n",
    " ON s.product_id = m.product_id)\n",
    "\n",
    "SELECT customer_id, product_name\n",
    "FROM ordered_sales\n",
    "WHERE rank = 1\n",
    "GROUP BY customer_id, product_name;\n"
   ]
  },
  {
   "cell_type": "markdown",
   "metadata": {},
   "source": [
    "Ans: Customer A bought curry and sushi as the first item, Customer B bought curry , and Customer C ramen."
   ]
  },
  {
   "cell_type": "markdown",
   "metadata": {},
   "source": [
    " #### Q4: What is the most purchased item on the menu and how many times was it purchased by all customers?\n",
    " "
   ]
  },
  {
   "cell_type": "code",
   "execution_count": 8,
   "metadata": {},
   "outputs": [
    {
     "name": "stdout",
     "output_type": "stream",
     "text": [
      " * sqlite://\n",
      "Done.\n"
     ]
    },
    {
     "data": {
      "text/html": [
       "<table>\n",
       "    <tr>\n",
       "        <th>product_name</th>\n",
       "        <th>Number_of_times_purchased</th>\n",
       "    </tr>\n",
       "    <tr>\n",
       "        <td>ramen</td>\n",
       "        <td>8</td>\n",
       "    </tr>\n",
       "</table>"
      ],
      "text/plain": [
       "[('ramen', 8)]"
      ]
     },
     "execution_count": 8,
     "metadata": {},
     "output_type": "execute_result"
    }
   ],
   "source": [
    "%%sql \n",
    "SELECT \n",
    "product_name, \n",
    "(COUNT(s.product_id)) AS Number_of_times_purchased \n",
    "FROM sales AS s\n",
    "JOIN menu AS m\n",
    " ON s.product_id = m.product_id\n",
    "GROUP BY s.product_id, product_name\n",
    "ORDER BY Number_of_times_purchased DESC\n",
    "LIMIT 1"
   ]
  },
  {
   "cell_type": "markdown",
   "metadata": {},
   "source": [
    "Ans: Ramen is the most purchased item on the menu and it was purchased 8 times by all customers."
   ]
  },
  {
   "cell_type": "markdown",
   "metadata": {},
   "source": [
    "##### Q5 : Which item was the most popular for each customer? "
   ]
  },
  {
   "cell_type": "code",
   "execution_count": 9,
   "metadata": {},
   "outputs": [
    {
     "name": "stdout",
     "output_type": "stream",
     "text": [
      " * sqlite://\n",
      "Done.\n"
     ]
    },
    {
     "data": {
      "text/html": [
       "<table>\n",
       "    <tr>\n",
       "        <th>customer_id</th>\n",
       "        <th>product_name</th>\n",
       "        <th>times_purchased</th>\n",
       "        <th>rank</th>\n",
       "    </tr>\n",
       "    <tr>\n",
       "        <td>A</td>\n",
       "        <td>ramen</td>\n",
       "        <td>3</td>\n",
       "        <td>1</td>\n",
       "    </tr>\n",
       "    <tr>\n",
       "        <td>B</td>\n",
       "        <td>sushi</td>\n",
       "        <td>2</td>\n",
       "        <td>1</td>\n",
       "    </tr>\n",
       "    <tr>\n",
       "        <td>B</td>\n",
       "        <td>curry</td>\n",
       "        <td>2</td>\n",
       "        <td>1</td>\n",
       "    </tr>\n",
       "    <tr>\n",
       "        <td>B</td>\n",
       "        <td>ramen</td>\n",
       "        <td>2</td>\n",
       "        <td>1</td>\n",
       "    </tr>\n",
       "    <tr>\n",
       "        <td>C</td>\n",
       "        <td>ramen</td>\n",
       "        <td>3</td>\n",
       "        <td>1</td>\n",
       "    </tr>\n",
       "</table>"
      ],
      "text/plain": [
       "[('A', 'ramen', 3, 1),\n",
       " ('B', 'sushi', 2, 1),\n",
       " ('B', 'curry', 2, 1),\n",
       " ('B', 'ramen', 2, 1),\n",
       " ('C', 'ramen', 3, 1)]"
      ]
     },
     "execution_count": 9,
     "metadata": {},
     "output_type": "execute_result"
    }
   ],
   "source": [
    "%%sql \n",
    "\n",
    "\n",
    "WITH most_popular_item_cte AS\n",
    "(SELECT s.customer_id, m.product_name, \n",
    "  COUNT(m.product_id) AS times_purchased,\n",
    "  DENSE_RANK() OVER(PARTITION BY s.customer_id\n",
    "  ORDER BY COUNT(s.customer_id) DESC) AS rank\n",
    "FROM menu AS m\n",
    "JOIN sales AS s\n",
    " ON m.product_id = s.product_id\n",
    "GROUP BY s.customer_id, m.product_id, product_name)\n",
    "\n",
    "SELECT * FROM most_popular_item_cte\n",
    "WHERE rank = 1;\n",
    "\n",
    "\n"
   ]
  },
  {
   "cell_type": "markdown",
   "metadata": {},
   "source": [
    "Ans: The most popular item for Customer A and C is ramen. For customer B, he enjoys ramen, sushi and curry all the same."
   ]
  },
  {
   "cell_type": "markdown",
   "metadata": {},
   "source": [
    "#### Q6. Which item was purchased first by the customer after they became a member?"
   ]
  },
  {
   "cell_type": "code",
   "execution_count": 10,
   "metadata": {},
   "outputs": [
    {
     "name": "stdout",
     "output_type": "stream",
     "text": [
      " * sqlite://\n",
      "Done.\n"
     ]
    },
    {
     "data": {
      "text/html": [
       "<table>\n",
       "    <tr>\n",
       "        <th>customer_id</th>\n",
       "        <th>order_date</th>\n",
       "        <th>product_name</th>\n",
       "    </tr>\n",
       "    <tr>\n",
       "        <td>A</td>\n",
       "        <td>2021-01-07</td>\n",
       "        <td>curry</td>\n",
       "    </tr>\n",
       "    <tr>\n",
       "        <td>B</td>\n",
       "        <td>2021-01-11</td>\n",
       "        <td>sushi</td>\n",
       "    </tr>\n",
       "</table>"
      ],
      "text/plain": [
       "[('A', '2021-01-07', 'curry'), ('B', '2021-01-11', 'sushi')]"
      ]
     },
     "execution_count": 10,
     "metadata": {},
     "output_type": "execute_result"
    }
   ],
   "source": [
    "%%sql \n",
    "WITH member_sales_cte AS \n",
    "(SELECT s.customer_id, m.join_date, s.order_date,   s.product_id,\n",
    "         DENSE_RANK() OVER(PARTITION BY s.customer_id\n",
    "  ORDER BY s.order_date) AS rank\n",
    "     FROM sales AS s\n",
    " JOIN members AS m\n",
    "  ON s.customer_id = m.customer_id\n",
    " WHERE s.order_date >= m.join_date)\n",
    "\n",
    "SELECT s.customer_id,s.order_date,  m.product_name \n",
    "FROM member_sales_cte AS s\n",
    "JOIN menu as m\n",
    "on s.product_id = m.product_id\n",
    "where s.rank = 1\n",
    "order by s.customer_id\n"
   ]
  },
  {
   "cell_type": "markdown",
   "metadata": {},
   "source": [
    "Ans: <br>\n",
    "    After Customer A became a member, curry was the first item purchased. <br>\n",
    "    After Customer B became a member, sushi was the first item purchased.\n"
   ]
  },
  {
   "cell_type": "markdown",
   "metadata": {},
   "source": [
    "#### Q7. Which item was purchased just before the customer became a member?"
   ]
  },
  {
   "cell_type": "code",
   "execution_count": 11,
   "metadata": {},
   "outputs": [
    {
     "name": "stdout",
     "output_type": "stream",
     "text": [
      " * sqlite://\n",
      "Done.\n"
     ]
    },
    {
     "data": {
      "text/html": [
       "<table>\n",
       "    <tr>\n",
       "        <th>customer_id</th>\n",
       "        <th>order_date</th>\n",
       "        <th>product_name</th>\n",
       "    </tr>\n",
       "    <tr>\n",
       "        <td>A</td>\n",
       "        <td>2021-01-01</td>\n",
       "        <td>sushi</td>\n",
       "    </tr>\n",
       "    <tr>\n",
       "        <td>A</td>\n",
       "        <td>2021-01-01</td>\n",
       "        <td>curry</td>\n",
       "    </tr>\n",
       "    <tr>\n",
       "        <td>B</td>\n",
       "        <td>2021-01-04</td>\n",
       "        <td>sushi</td>\n",
       "    </tr>\n",
       "</table>"
      ],
      "text/plain": [
       "[('A', '2021-01-01', 'sushi'),\n",
       " ('A', '2021-01-01', 'curry'),\n",
       " ('B', '2021-01-04', 'sushi')]"
      ]
     },
     "execution_count": 11,
     "metadata": {},
     "output_type": "execute_result"
    }
   ],
   "source": [
    "%%sql \n",
    "WITH member_sales_cte AS \n",
    "(SELECT s.customer_id, m.join_date, s.order_date,   s.product_id,\n",
    "         DENSE_RANK() OVER(PARTITION BY s.customer_id\n",
    "  ORDER BY s.order_date DESC) AS rank\n",
    "     FROM sales AS s\n",
    " JOIN members AS m\n",
    "  ON s.customer_id = m.customer_id\n",
    " WHERE s.order_date < m.join_date)\n",
    "\n",
    "SELECT s.customer_id,s.order_date,  m.product_name \n",
    "FROM member_sales_cte AS s\n",
    "JOIN menu as m\n",
    "on s.product_id = m.product_id\n",
    "where s.rank = 1\n",
    "order by s.customer_id"
   ]
  },
  {
   "cell_type": "markdown",
   "metadata": {},
   "source": [
    "Ans: Customer A purchased sushi and curry while Customer B purchased sushi just before they became members."
   ]
  },
  {
   "cell_type": "markdown",
   "metadata": {},
   "source": [
    "#### Q8. What is the total items and amount spent for each member before they became a member?"
   ]
  },
  {
   "cell_type": "code",
   "execution_count": 12,
   "metadata": {},
   "outputs": [
    {
     "name": "stdout",
     "output_type": "stream",
     "text": [
      " * sqlite://\n",
      "Done.\n"
     ]
    },
    {
     "data": {
      "text/html": [
       "<table>\n",
       "    <tr>\n",
       "        <th>customer_id</th>\n",
       "        <th>total_sales</th>\n",
       "        <th>nunique</th>\n",
       "    </tr>\n",
       "    <tr>\n",
       "        <td>A</td>\n",
       "        <td>25</td>\n",
       "        <td>2</td>\n",
       "    </tr>\n",
       "    <tr>\n",
       "        <td>B</td>\n",
       "        <td>40</td>\n",
       "        <td>2</td>\n",
       "    </tr>\n",
       "</table>"
      ],
      "text/plain": [
       "[('A', 25, 2), ('B', 40, 2)]"
      ]
     },
     "execution_count": 12,
     "metadata": {},
     "output_type": "execute_result"
    }
   ],
   "source": [
    "%%sql \n",
    "\n",
    "\n",
    "SELECT s.customer_id,  SUM(mm.price) AS total_sales, COUNT(DISTINCT s.product_id) AS nunique\n",
    "FROM sales AS s\n",
    "JOIN members AS m\n",
    " ON s.customer_id = m.customer_id \n",
    "JOIN menu AS mm\n",
    " ON s.product_id = mm.product_id\n",
    "     WHERE s.order_date < m.join_date\n",
    "\n",
    "GROUP BY s.customer_id;"
   ]
  },
  {
   "cell_type": "markdown",
   "metadata": {},
   "source": [
    "Ans: Customer A spent $25 on 2 items while Customer B spent $40 on 2 items before they became members."
   ]
  },
  {
   "cell_type": "markdown",
   "metadata": {},
   "source": [
    "#### Q9. If each $1 spent equates to 10 points and sushi has a 2x points multiplier — how many points would each customer have?"
   ]
  },
  {
   "cell_type": "code",
   "execution_count": 13,
   "metadata": {},
   "outputs": [
    {
     "name": "stdout",
     "output_type": "stream",
     "text": [
      " * sqlite://\n",
      "Done.\n"
     ]
    },
    {
     "data": {
      "text/html": [
       "<table>\n",
       "    <tr>\n",
       "        <th>customer_id</th>\n",
       "        <th>total_points</th>\n",
       "    </tr>\n",
       "    <tr>\n",
       "        <td>A</td>\n",
       "        <td>860</td>\n",
       "    </tr>\n",
       "    <tr>\n",
       "        <td>B</td>\n",
       "        <td>940</td>\n",
       "    </tr>\n",
       "    <tr>\n",
       "        <td>C</td>\n",
       "        <td>360</td>\n",
       "    </tr>\n",
       "</table>"
      ],
      "text/plain": [
       "[('A', 860), ('B', 940), ('C', 360)]"
      ]
     },
     "execution_count": 13,
     "metadata": {},
     "output_type": "execute_result"
    }
   ],
   "source": [
    "%%sql\n",
    "WITH points_cte AS\n",
    "(SELECT menu.product_id, menu.product_name, \n",
    "CASE WHEN menu.product_name = 'sushi' THEN menu.price*20 \n",
    "ELSE price*10 END AS points\n",
    "from menu)\n",
    "\n",
    "SELECT customer_id,SUM(points_cte.points) AS total_points\n",
    "FROM points_cte JOIN sales\n",
    "on points_cte.product_id = sales.product_id\n",
    "GROUP BY sales.customer_id\n",
    "\n",
    "\n"
   ]
  },
  {
   "cell_type": "markdown",
   "metadata": {},
   "source": [
    "With the multiplier point system in place, Customer A, B and C would have 860 points, 940 points and 360 points respectively."
   ]
  },
  {
   "cell_type": "markdown",
   "metadata": {},
   "source": [
    "#### 10. In the first week after a customer joins the program (including their join date) they earn 2x points on all items, not just sushi - how many points do customer A and B have at the end of January?"
   ]
  },
  {
   "cell_type": "code",
   "execution_count": 14,
   "metadata": {},
   "outputs": [
    {
     "name": "stdout",
     "output_type": "stream",
     "text": [
      " * sqlite://\n",
      "Done.\n"
     ]
    },
    {
     "data": {
      "text/html": [
       "<table>\n",
       "    <tr>\n",
       "        <th>total_points</th>\n",
       "        <th>product_id</th>\n",
       "        <th>customer_id</th>\n",
       "        <th>order_date</th>\n",
       "        <th>join_date</th>\n",
       "        <th>days_diff</th>\n",
       "    </tr>\n",
       "    <tr>\n",
       "        <td>1370</td>\n",
       "        <td>1</td>\n",
       "        <td>A</td>\n",
       "        <td>2021-01-01</td>\n",
       "        <td>2021-01-07</td>\n",
       "        <td>-6.0</td>\n",
       "    </tr>\n",
       "    <tr>\n",
       "        <td>820</td>\n",
       "        <td>2</td>\n",
       "        <td>B</td>\n",
       "        <td>2021-01-01</td>\n",
       "        <td>2021-01-09</td>\n",
       "        <td>-8.0</td>\n",
       "    </tr>\n",
       "</table>"
      ],
      "text/plain": [
       "[(1370, 1, 'A', '2021-01-01', '2021-01-07', -6.0),\n",
       " (820, 2, 'B', '2021-01-01', '2021-01-09', -8.0)]"
      ]
     },
     "execution_count": 14,
     "metadata": {},
     "output_type": "execute_result"
    }
   ],
   "source": [
    "%%sql\n",
    "WITH days_cte AS\n",
    "(SELECT members.customer_id, members.join_date,sales.order_date,sales.product_id,\n",
    "julianday(sales.order_date)-julianday(members.join_date) AS days_diff\n",
    "from sales \n",
    "INNER JOIN members on sales.customer_id = members.customer_id)\n",
    "\n",
    "\n",
    "SELECT SUM(CASE WHEN days_cte.product_id =1 THEN menu.price*20\n",
    "        WHEN days_diff BETWEEN 0 and 6 and days_diff >=0 THEN menu.price*20\n",
    " WHEN days_diff < 0 THEN menu.price * 10\n",
    "WHEN days_cte.product_id =1 THEN menu.price*20\n",
    "WHEN days_cte.order_date >= \"2021-02-01\" THEN menu.price*0\n",
    "\n",
    "ELSE menu.price*10 END) AS total_points, days_cte.product_id,  days_cte.customer_id,days_cte.order_date, days_cte.join_date, days_cte.days_diff\n",
    "FROM days_cte\n",
    "LEFT JOIN MENU on days_cte.product_id = menu.product_id\n",
    "GROUP BY customer_id\n",
    "\n",
    "\n"
   ]
  },
  {
   "cell_type": "markdown",
   "metadata": {},
   "source": [
    "Ans: Customer A has 1370 points and Customer B has 820 at the end of January."
   ]
  }
 ],
 "metadata": {
  "kernelspec": {
   "display_name": "Python 3",
   "language": "python",
   "name": "python3"
  },
  "language_info": {
   "codemirror_mode": {
    "name": "ipython",
    "version": 3
   },
   "file_extension": ".py",
   "mimetype": "text/x-python",
   "name": "python",
   "nbconvert_exporter": "python",
   "pygments_lexer": "ipython3",
   "version": "3.7.4"
  }
 },
 "nbformat": 4,
 "nbformat_minor": 2
}
